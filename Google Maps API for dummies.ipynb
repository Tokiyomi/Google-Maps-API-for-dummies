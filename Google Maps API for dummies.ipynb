{
 "cells": [
  {
   "cell_type": "markdown",
   "metadata": {},
   "source": [
    "<center> <h1> Google Maps API: learning the basics </h> </center> \n",
    "<center> <h2> A brief introduction to GMaps API for students and begginers in python ;) </h> </center> "
   ]
  },
  {
   "cell_type": "markdown",
   "metadata": {},
   "source": [
    "This tutorial was made by:\n",
    "* [*Carolina Garma*](https://github.com/Tokiyomi) (username: Tokiyomi)\n",
    "* [*Oswaldo Chan*](https://github.com/oswaldochan) (username: oswaldochan)\n",
    "* [*Alan Peraza*](https://github.com/alanperaza) (username: alanperaza)\n",
    "* [*Ricardo Lopez*](https://https://github.com/ricardomoyer) (username: ricardomoyer)"
   ]
  },
  {
   "cell_type": "markdown",
   "metadata": {},
   "source": [
    "Hello fellas! Today we are learning how to use APIs in real contexts. But before we get right into it, you must know some of the basic concepts. Almost every 'technical' concept will be described here, so you can understand this notebook. :)"
   ]
  },
  {
   "cell_type": "markdown",
   "metadata": {},
   "source": [
    "* **API**: Have you ever been to a restaurant? Please, of course you have! Surely before ordering what you want to eat you were given a menu in which you could see all the dishes from which you could choose. All menus follow the same structure (most of the time): the name of the dish followed by the ingredients that make it up. You order what you want on the menu, and you are taken to the table.\n",
    "Well, an API is more or less the same as the menu, with the difference that you request information and not dishes. You shouldn't care how the information is stored, you just want to have it and that's it.\n",
    "Now, it should be emphasized that this is a very basic metaphor (assuming you are a beginner), since sometimes you will have to provide information to the API, but for the purposes of this tutorial, keep that idea. You can read more about it on the internet. By the way, API stands for **Application Programming Interface**"
   ]
  },
  {
   "cell_type": "markdown",
   "metadata": {},
   "source": [
    "* **API key**: Can you imagine what would happen if you ordered a package online but anyone could say it was you, so they could steal the package? \n",
    "It would be terrible :( \n",
    "Luckily, you require identification so that the mail service knows that you are the person to whom the package should reach.\n",
    "**An API key is exactly that**. When we use APIs, the organizations that provide them must know who is requesting them. It's like a programmer ID.\n",
    "In this tutorial you'll use one of your own, but we'll see that later. :D"
   ]
  },
  {
   "cell_type": "markdown",
   "metadata": {},
   "source": [
    "* **json**: The JavaScript Object Notation (JSON) file format is an open, text-based, standard format used to serialize and transmit structured data between a server and a web application. The JSON format is easy for humans to read and write. It is also easy for machines to analyze and generate. "
   ]
  },
  {
   "cell_type": "markdown",
   "metadata": {},
   "source": [
    " * **pandas** is a Python library that provides tools that will allow us to work with data tables and perform operations on them. It will be very helpful for a lot of task in this tutorial.\n",
    "If you don't have it installed yet, you can find out how to do it in the notebook \"Installing python libraries (GMaps tutorial)\".\n",
    "\n",
    "Ok, with this information you will able to survive. If you're not understandinga concept, you can look for it on internet. The sooner you get used to look information on your own, the sooner you will become a master programmer (somebody once told me ;) )"
   ]
  },
  {
   "cell_type": "markdown",
   "metadata": {},
   "source": [
    "**First steps:** importing libraries that we'll be using:"
   ]
  },
  {
   "cell_type": "code",
   "execution_count": 2,
   "metadata": {},
   "outputs": [],
   "source": [
    "# Importing libraries\n",
    "import pandas as pd\n",
    "import json\n",
    "import requests\n",
    "from datetime import datetime"
   ]
  },
  {
   "cell_type": "markdown",
   "metadata": {},
   "source": [
    "After that, you must have your API key. **PLEASE DO NOT SHARE IT with anyone, and take care of it like it was a baby.** 👶\n",
    "\n",
    "Declare it down bellow in string format:"
   ]
  },
  {
   "cell_type": "code",
   "execution_count": 3,
   "metadata": {},
   "outputs": [],
   "source": [
    "key = ''"
   ]
  },
  {
   "cell_type": "markdown",
   "metadata": {},
   "source": [
    "Fine! Now you have acces to the Google Maps API. Let's use it for the first time!\n",
    "We'll create a function to find restaurants near to your house! (Don't worry!, we are not collecting your data).\n",
    "\n",
    "The [*Nearby Seach*](https://developers.google.com/places/web-service/search) Method will help us to do this task.\n",
    "You got the documentation in the blue-colored letters. Read it if you want to know more about it, which I recommend you to understand the parameters and their reason to be used.\n",
    "\n",
    "I'll be using the coordinates of the Mérida Yucatán's cathedral for this example.\n",
    "You use Google Maps to take the coordinates of your house!"
   ]
  },
  {
   "cell_type": "markdown",
   "metadata": {},
   "source": [
    "**Using our API key to make requests**."
   ]
  },
  {
   "cell_type": "code",
   "execution_count": 4,
   "metadata": {},
   "outputs": [],
   "source": [
    "def nearby_places_home(lat, lon, radius, place_type, key):\n",
    "    \"\"\"\n",
    "    Function that makes an API request and returns a dictionary containing nearby places\n",
    "    -----------------------------\n",
    "    Input: \n",
    "        <string>\n",
    "            \n",
    "            'location' : a string in the form 'lat,lon'\n",
    "            'place_type' : a string containing the place type\n",
    "            'key' : your API key\n",
    "            \n",
    "        <int>\n",
    "            \n",
    "            'radius' : in meters\n",
    "    -----------------------------\n",
    "    Output: \n",
    "        \n",
    "        <json dictionary> containing information about nearby places to the given location\n",
    "        \n",
    "    \"\"\"\n",
    "    \n",
    "    # This url was taken from the documentation!\n",
    "    url = f'https://maps.googleapis.com/maps/api/place/nearbysearch/json?location={lat},{lon}&radius={radius}&type={place_type}&key={key}'\n",
    "    \n",
    "    # Here, we are telling Google Maps API that we are requesting info about itself\n",
    "    # requests.get()\n",
    "    requests_loc = requests.get(url)\n",
    "    \n",
    "    # Loading results into a json file (python recognizes it as a dictionary)\n",
    "    # In this function we are asking for a dictionary with the info previously requested\n",
    "    results = json.loads(requests_loc.content)\n",
    "    \n",
    "    return results\n",
    "    "
   ]
  },
  {
   "cell_type": "markdown",
   "metadata": {},
   "source": [
    "The function was made, but it need parameters to work (as we established in the definition of the function).\n",
    "The radius is taken in meters, so I'll write 2000.\n",
    "\n",
    "Note: You just need to write 'key' in the fourth parameter since you already declare it above.\n"
   ]
  },
  {
   "cell_type": "code",
   "execution_count": 7,
   "metadata": {},
   "outputs": [
    {
     "data": {
      "text/plain": [
       "{'html_attributions': [],\n",
       " 'next_page_token': 'CrQCIQEAAGtKi3tFfJA7Q_TlJSyS-NQhmEXzAbQUBSXqmar3uCOKrKrjoPGAE4AtmmEihka55E8pptoqv-soFnkqxeL57XDlh5uoQ7Y1iS38mmCMOsRO-ED2HgzOw6L2z57UVv0zY4ozl50wrvwmNMB5FSkx1EMupZpLsgxCSOpXR3ZWn6VwefSUyaBoSI01W0XHpJDFYk1w6u9xFCd5SebQPP8_nXAtzaaUaanOKKF58JhUhRD0vg9XD_Wo3pmXggOJJaEGqVTyyzmZTo-jDo7M9suoH4pDIppFWkkbM8b9654WNpMD2JjdvyT9HKAIhdez3hKBKVtep2Riivf7QXs-ns2FU6cYwMEDE0iwEfBxTw4xMi38H9vcY2a8fnXBDQr4I7DRxJ9SvZuLczZoZ1oMtBSKKpISEHEm0sCTe-gUNBkC3NlX_JUaFJlLfM-tYyJtnW8x7ct7RO8YIQRu',\n",
       " 'results': [{'geometry': {'location': {'lat': 20.9716344, 'lng': -89.6255417},\n",
       "    'viewport': {'northeast': {'lat': 20.9729234302915,\n",
       "      'lng': -89.6242078197085},\n",
       "     'southwest': {'lat': 20.97022546970849, 'lng': -89.62690578029151}}},\n",
       "   'icon': 'https://maps.gstatic.com/mapfiles/place_api/icons/lodging-71.png',\n",
       "   'id': '3ab345f3b5731f0dd4703e2df5e3d408149b0b35',\n",
       "   'name': 'Hotel MedioMundo',\n",
       "   'photos': [{'height': 1082,\n",
       "     'html_attributions': ['<a href=\"https://maps.google.com/maps/contrib/104099452712746245646/photos\">Hotel MedioMundo</a>'],\n",
       "     'photo_reference': 'CmRaAAAAPaoviSG6zWGnxzvDOKSIkuLBEd23_skdD8cdaUWt1NV7iPrvPB-6AVLJWFgt_897E9xKn6NmmYyLW1afLlII5DlEEMnJncSX1UWSxJUjMHzB5-PPerixmhLfwlIKhMwREhDZGRrqStsAC-bmRcgcRqeKGhQYbsKTDULoYWcgufyJvJlwwElkxg',\n",
       "     'width': 1588}],\n",
       "   'place_id': 'ChIJ6UkVhN9zVo8R1l9m8TxbQPM',\n",
       "   'plus_code': {'compound_code': 'X9CF+MQ Mérida, Yucatan, Mexico',\n",
       "    'global_code': '76GGX9CF+MQ'},\n",
       "   'rating': 4.6,\n",
       "   'reference': 'ChIJ6UkVhN9zVo8R1l9m8TxbQPM',\n",
       "   'scope': 'GOOGLE',\n",
       "   'types': ['lodging',\n",
       "    'restaurant',\n",
       "    'food',\n",
       "    'point_of_interest',\n",
       "    'store',\n",
       "    'establishment'],\n",
       "   'user_ratings_total': 81,\n",
       "   'vicinity': 'Calle 55 533, Centro, Mérida'},\n",
       "  {'geometry': {'location': {'lat': 20.969797, 'lng': -89.623725},\n",
       "    'viewport': {'northeast': {'lat': 20.9711544302915,\n",
       "      'lng': -89.6224203197085},\n",
       "     'southwest': {'lat': 20.9684564697085, 'lng': -89.6251182802915}}},\n",
       "   'icon': 'https://maps.gstatic.com/mapfiles/place_api/icons/lodging-71.png',\n",
       "   'id': '24d88c5df5c3f2e281782fcdea956080bbed5b0c',\n",
       "   'name': 'Hotel Colonial de Mérida',\n",
       "   'opening_hours': {'open_now': True},\n",
       "   'photos': [{'height': 4912,\n",
       "     'html_attributions': ['<a href=\"https://maps.google.com/maps/contrib/101428664703138874151/photos\">Hotel Colonial</a>'],\n",
       "     'photo_reference': 'CmRaAAAAECVv4qYlI7OxSVJCSspeHgQ27WG0PUBu9gq6vIS62tQlWD1IjbW-HS11Rju6hPbEUTiL1mLZiYFZB53Z0hY1eirwlbc--NYtugg4qVXq7G9GCKlZGjSqFTGJ4htw82Y5EhDpTfFtSSg04_u-BZY1-FEIGhSdeSsU46uaxdkuoVqSuSfG0c4dhA',\n",
       "     'width': 7360}],\n",
       "   'place_id': 'ChIJvbQpe9cBzoURQu204GwtXw8',\n",
       "   'plus_code': {'compound_code': 'X99G+WG Mérida, Yucatan, Mexico',\n",
       "    'global_code': '76GGX99G+WG'},\n",
       "   'rating': 4.2,\n",
       "   'reference': 'ChIJvbQpe9cBzoURQu204GwtXw8',\n",
       "   'scope': 'GOOGLE',\n",
       "   'types': ['lodging',\n",
       "    'restaurant',\n",
       "    'food',\n",
       "    'point_of_interest',\n",
       "    'establishment'],\n",
       "   'user_ratings_total': 587,\n",
       "   'vicinity': 'Calle 62 476, Centro, Mérida'},\n",
       "  {'geometry': {'location': {'lat': 20.979003, 'lng': -89.61842399999999},\n",
       "    'viewport': {'northeast': {'lat': 20.9803818802915,\n",
       "      'lng': -89.6172604697085},\n",
       "     'southwest': {'lat': 20.9776839197085, 'lng': -89.6199584302915}}},\n",
       "   'icon': 'https://maps.gstatic.com/mapfiles/place_api/icons/restaurant-71.png',\n",
       "   'id': '1f33d6c7ef7b8b1c060d3bfd055c2fa887f39879',\n",
       "   'name': 'Rosas & Xocolate Boutique Hotel + SPA',\n",
       "   'opening_hours': {'open_now': True},\n",
       "   'photos': [{'height': 1605,\n",
       "     'html_attributions': ['<a href=\"https://maps.google.com/maps/contrib/107508912307505005422/photos\">Rosas &amp; Xocolate Boutique Hotel + SPA</a>'],\n",
       "     'photo_reference': 'CmRaAAAAQh4yMalS9-VkunSUNDwQYBcnzY8lh2PDB7QiDKM-aYn2iqUovfvon-g2-4BBwBF2fPLKJGr7Kfnk3W_seU0b7buXFcY3JAskTONCqIu_sD9GtLcWOAXeYniR1AYtMNHAEhCmDbHDOcnkQT0QBaiA3GczGhRIv7hfYNTg-dAdnIE5-SBYcCIoPg',\n",
       "     'width': 2048}],\n",
       "   'place_id': 'ChIJ68JYb1xxVo8RczcCV0_dsvs',\n",
       "   'plus_code': {'compound_code': 'X9HJ+JJ Mérida, Yucatan, Mexico',\n",
       "    'global_code': '76GGX9HJ+JJ'},\n",
       "   'price_level': 3,\n",
       "   'rating': 4.4,\n",
       "   'reference': 'ChIJ68JYb1xxVo8RczcCV0_dsvs',\n",
       "   'scope': 'GOOGLE',\n",
       "   'types': ['restaurant',\n",
       "    'spa',\n",
       "    'lodging',\n",
       "    'food',\n",
       "    'gym',\n",
       "    'health',\n",
       "    'point_of_interest',\n",
       "    'clothing_store',\n",
       "    'store',\n",
       "    'establishment'],\n",
       "   'user_ratings_total': 518,\n",
       "   'vicinity': 'Paseo de Montejo 480, Centro, Mérida'},\n",
       "  {'geometry': {'location': {'lat': 20.9686704, 'lng': -89.6235624},\n",
       "    'viewport': {'northeast': {'lat': 20.97008583029151,\n",
       "      'lng': -89.62220281970848},\n",
       "     'southwest': {'lat': 20.9673878697085, 'lng': -89.6249007802915}}},\n",
       "   'icon': 'https://maps.gstatic.com/mapfiles/place_api/icons/restaurant-71.png',\n",
       "   'id': 'fc0ac3d03fc345a1f8e38d9e91fe4aba95a0a92a',\n",
       "   'name': 'Subway',\n",
       "   'opening_hours': {'open_now': True},\n",
       "   'photos': [{'height': 2000,\n",
       "     'html_attributions': ['<a href=\"https://maps.google.com/maps/contrib/114036765708669095446/photos\">Lucyta Machado</a>'],\n",
       "     'photo_reference': 'CmRaAAAAbtRQXaRbg9xaUMFNyeZ3A_7vMhK9LmY_UVBUHF2tHvddibGxo34yiq39tHjrLjCUsd470VIY5IU0ykJGEAqjCKX7TftgzRpz0tk-Klbzv90h2QVVPASk-1Yk8_8ivP9bEhCqEoiDHqPjnXDnqcyUFMOwGhS3-uob9smfwIAKUvXuYbk35ZdaIw',\n",
       "     'width': 4000}],\n",
       "   'place_id': 'ChIJZ7rUWxpxVo8RmiC9ZdNmhmA',\n",
       "   'plus_code': {'compound_code': 'X99G+FH Mérida, Yucatan, Mexico',\n",
       "    'global_code': '76GGX99G+FH'},\n",
       "   'price_level': 2,\n",
       "   'rating': 4.3,\n",
       "   'reference': 'ChIJZ7rUWxpxVo8RmiC9ZdNmhmA',\n",
       "   'scope': 'GOOGLE',\n",
       "   'types': ['restaurant', 'food', 'point_of_interest', 'establishment'],\n",
       "   'user_ratings_total': 580,\n",
       "   'vicinity': 'Calle 59 x 60 and 62 Number 406, Centro, Mérida'},\n",
       "  {'geometry': {'location': {'lat': 20.9794714, 'lng': -89.61925579999999},\n",
       "    'viewport': {'northeast': {'lat': 20.9808347802915,\n",
       "      'lng': -89.6179918197085},\n",
       "     'southwest': {'lat': 20.9781368197085, 'lng': -89.62068978029151}}},\n",
       "   'icon': 'https://maps.gstatic.com/mapfiles/place_api/icons/lodging-71.png',\n",
       "   'id': '51e2df6a8d5d5f7af0d15ec0a5971eeafc8105d2',\n",
       "   'name': 'Hotel Montejo Palace',\n",
       "   'photos': [{'height': 2322,\n",
       "     'html_attributions': ['<a href=\"https://maps.google.com/maps/contrib/103047517113886256452/photos\">carmen Quintas</a>'],\n",
       "     'photo_reference': 'CmRaAAAAgRRbabA_o5cYJSWZXwydl-GCgott0F9OQGR3dlEPSeBhywY_CvDR-CA65mI3ld8vYpUDkJxAkdZJQJIxkCyJztYttC9qLduc57mj5TPJAy_iGMwYsLxv8E0dLWMXRMInEhDiYYxojgd22ty4tyysy1AtGhTSAQNeB7xm5vYFaDLOMAVC-ccltw',\n",
       "     'width': 4128}],\n",
       "   'place_id': 'ChIJVT30Dp92Vo8R9yX_u-8nWBk',\n",
       "   'plus_code': {'compound_code': 'X9HJ+Q7 Mérida, Yucatan, Mexico',\n",
       "    'global_code': '76GGX9HJ+Q7'},\n",
       "   'rating': 3.8,\n",
       "   'reference': 'ChIJVT30Dp92Vo8R9yX_u-8nWBk',\n",
       "   'scope': 'GOOGLE',\n",
       "   'types': ['lodging',\n",
       "    'restaurant',\n",
       "    'food',\n",
       "    'point_of_interest',\n",
       "    'establishment'],\n",
       "   'user_ratings_total': 40,\n",
       "   'vicinity': 'Av. Paseo de Montejo #483-C x 39 y 41, Centro, Mérida'},\n",
       "  {'geometry': {'location': {'lat': 20.9631618, 'lng': -89.6306741},\n",
       "    'viewport': {'northeast': {'lat': 20.9644826302915,\n",
       "      'lng': -89.6293286697085},\n",
       "     'southwest': {'lat': 20.9617846697085, 'lng': -89.6320266302915}}},\n",
       "   'icon': 'https://maps.gstatic.com/mapfiles/place_api/icons/lodging-71.png',\n",
       "   'id': '1d59946db30065884e9ac127f3bb6d4bc44007f3',\n",
       "   'name': 'Hotel El Español Centro Histórico',\n",
       "   'opening_hours': {'open_now': True},\n",
       "   'photos': [{'height': 3024,\n",
       "     'html_attributions': ['<a href=\"https://maps.google.com/maps/contrib/108499172041009039743/photos\">Hotel El Español Centro Histórico</a>'],\n",
       "     'photo_reference': 'CmRaAAAAILHL11-BwCW-jScCGlK5SNpAWia1ohgmdeVHhz7DZ-BknwMYbw884DaySRWL6w6c0A7MU32IZZm5U0b8Z3kIyzkWFAa1T-E4y_3KiPxMjiAo9mMNnAWm2NhMXPG2-4BjEhAobHuyHog_p8Cm3WQjVymoGhRHXI2Pu6qBHkngquwdP0LoZW6ShQ',\n",
       "     'width': 4032}],\n",
       "   'place_id': 'ChIJIZgDDtpzVo8RFIkmmyEvBk0',\n",
       "   'plus_code': {'compound_code': 'X979+7P Mérida, Yucatan, Mexico',\n",
       "    'global_code': '76GGX979+7P'},\n",
       "   'rating': 3.8,\n",
       "   'reference': 'ChIJIZgDDtpzVo8RFIkmmyEvBk0',\n",
       "   'scope': 'GOOGLE',\n",
       "   'types': ['lodging',\n",
       "    'bar',\n",
       "    'restaurant',\n",
       "    'food',\n",
       "    'point_of_interest',\n",
       "    'establishment'],\n",
       "   'user_ratings_total': 793,\n",
       "   'vicinity': 'Calle 69 543, Centro, Mérida'},\n",
       "  {'geometry': {'location': {'lat': 20.9649013, 'lng': -89.6222346},\n",
       "    'viewport': {'northeast': {'lat': 20.9662533302915,\n",
       "      'lng': -89.62090111970849},\n",
       "     'southwest': {'lat': 20.96355536970849, 'lng': -89.6235990802915}}},\n",
       "   'icon': 'https://maps.gstatic.com/mapfiles/place_api/icons/restaurant-71.png',\n",
       "   'id': '4f934ea948a8a146800f2bf4a627fbf95522ff5a',\n",
       "   'name': 'Burger King',\n",
       "   'opening_hours': {'open_now': True},\n",
       "   'photos': [{'height': 5344,\n",
       "     'html_attributions': ['<a href=\"https://maps.google.com/maps/contrib/105605598168753501145/photos\">William Alpuche</a>'],\n",
       "     'photo_reference': 'CmRaAAAAWdaEDVoBftlk-kKQOF_3aPR4BnDME-z-n8LQ7TpL7JFk67iOC3XoE-pRgFjw0Y-F3nwXDAmigV7P-7hz5d-p5GVPs6TuKpUmA1baVDY_z20sQizCJkD6yAilLZlMe0taEhBNfdS_nkec0d7vqZ4qsSEJGhQCon3WyB87Bb97NA_wuVuZWGyKuQ',\n",
       "     'width': 4008}],\n",
       "   'place_id': 'ChIJDQ8MadtzVo8Rw5zJ4dv87Pg',\n",
       "   'plus_code': {'compound_code': 'X97H+X4 Mérida, Yucatan, Mexico',\n",
       "    'global_code': '76GGX97H+X4'},\n",
       "   'price_level': 2,\n",
       "   'rating': 4,\n",
       "   'reference': 'ChIJDQ8MadtzVo8Rw5zJ4dv87Pg',\n",
       "   'scope': 'GOOGLE',\n",
       "   'types': ['restaurant', 'food', 'point_of_interest', 'establishment'],\n",
       "   'user_ratings_total': 747,\n",
       "   'vicinity': 'Calle 65 484, Centro, Mérida'},\n",
       "  {'geometry': {'location': {'lat': 20.9715749, 'lng': -89.6262445},\n",
       "    'viewport': {'northeast': {'lat': 20.97293043029151,\n",
       "      'lng': -89.62493171970848},\n",
       "     'southwest': {'lat': 20.9702324697085, 'lng': -89.62762968029149}}},\n",
       "   'icon': 'https://maps.gstatic.com/mapfiles/place_api/icons/restaurant-71.png',\n",
       "   'id': '69c21e700d02a1005eb950ce597db964226cfc0d',\n",
       "   'name': 'Bar Chemas',\n",
       "   'opening_hours': {'open_now': True},\n",
       "   'photos': [{'height': 3120,\n",
       "     'html_attributions': ['<a href=\"https://maps.google.com/maps/contrib/116049499058769308457/photos\">Limbert Medina</a>'],\n",
       "     'photo_reference': 'CmRaAAAAGY6OIkSx1fQOKkoXuXInovbQJxYcaKRaG1BTpmcWiep60hSmu7qKXCyZDEj31Jeg9E5ZwbxSY-SrpuUSYTuGoeFvX702TE-fWyAjAzU1Fw5yqP5MZGNzp9ln0TOg0T6iEhCmQ9vfcsyLXmTUoWfraEc7GhRf70iahzqUTzHAFq_CmpAvA8jxlg',\n",
       "     'width': 4160}],\n",
       "   'place_id': 'ChIJT4R3mN9zVo8RlOvWsc59-m0',\n",
       "   'plus_code': {'compound_code': 'X9CF+JG Mérida, Yucatan, Mexico',\n",
       "    'global_code': '76GGX9CF+JG'},\n",
       "   'price_level': 1,\n",
       "   'rating': 4.5,\n",
       "   'reference': 'ChIJT4R3mN9zVo8RlOvWsc59-m0',\n",
       "   'scope': 'GOOGLE',\n",
       "   'types': ['bar',\n",
       "    'restaurant',\n",
       "    'food',\n",
       "    'point_of_interest',\n",
       "    'establishment'],\n",
       "   'user_ratings_total': 235,\n",
       "   'vicinity': 'Calle 66 470a, Centro, Mérida'},\n",
       "  {'geometry': {'location': {'lat': 20.9584267, 'lng': -89.63159759999999},\n",
       "    'viewport': {'northeast': {'lat': 20.9597762802915,\n",
       "      'lng': -89.6302512197085},\n",
       "     'southwest': {'lat': 20.9570783197085, 'lng': -89.6329491802915}}},\n",
       "   'icon': 'https://maps.gstatic.com/mapfiles/place_api/icons/restaurant-71.png',\n",
       "   'id': '0b91fb54a78593c09d3e63c9bf387d6b066794ef',\n",
       "   'name': 'Ligia2',\n",
       "   'opening_hours': {'open_now': True},\n",
       "   'photos': [{'height': 2340,\n",
       "     'html_attributions': ['<a href=\"https://maps.google.com/maps/contrib/117568260080516841814/photos\">AIME ALAS</a>'],\n",
       "     'photo_reference': 'CmRaAAAAli7ICoH4eZQgeTQ6bJg9nt-xACPmStfZx0EWIXZFqgSuhYn5rD2voDd91IbG4vLi1Rf9zLKeQIVDDf_IgBXGmDb-gF2zdHgIuSuYY2QuIzwRHX2SuqyW-CAfucvvXcEoEhDo6lmCgVzHSm-FKzEcvHKvGhRSA37e_m6szok_rtp3v7kDnf2Mng',\n",
       "     'width': 4160}],\n",
       "   'place_id': 'ChIJo4nOp9FzVo8Rm-hyAwciZEc',\n",
       "   'plus_code': {'compound_code': 'X959+99 Mérida, Yucatan, Mexico',\n",
       "    'global_code': '76GGX959+99'},\n",
       "   'price_level': 2,\n",
       "   'rating': 4.3,\n",
       "   'reference': 'ChIJo4nOp9FzVo8Rm-hyAwciZEc',\n",
       "   'scope': 'GOOGLE',\n",
       "   'types': ['restaurant', 'food', 'point_of_interest', 'establishment'],\n",
       "   'user_ratings_total': 352,\n",
       "   'vicinity': 'Calle 72 77-75, Centro, Mérida'},\n",
       "  {'geometry': {'location': {'lat': 20.9667968, 'lng': -89.6251187},\n",
       "    'viewport': {'northeast': {'lat': 20.9681037302915,\n",
       "      'lng': -89.62377726970848},\n",
       "     'southwest': {'lat': 20.9654057697085, 'lng': -89.6264752302915}}},\n",
       "   'icon': 'https://maps.gstatic.com/mapfiles/place_api/icons/restaurant-71.png',\n",
       "   'id': 'd9c2d33e07ff776155273ffa6bb925d2ee91fe6c',\n",
       "   'name': 'Las Vigas',\n",
       "   'opening_hours': {'open_now': True},\n",
       "   'photos': [{'height': 480,\n",
       "     'html_attributions': ['<a href=\"https://maps.google.com/maps/contrib/109785372801195495093/photos\">Javier Magaña</a>'],\n",
       "     'photo_reference': 'CmRaAAAApi6t3i1qjBanTsPRSXG3gg5ROyd8vt3i6eGBgLvWNNB4_svZzeh0xs-1BYO52iD9eW_4cBHzvoUTapsb_AGHr2WS2Wc8tg2YV-3KvlMww2DaQqDVzmUyV4kyGqa-JTLMEhDwXuDOPXSQDdOfLShIC6FcGhSJroV5viwirdq2CV5kMMUizeqviA',\n",
       "     'width': 640}],\n",
       "   'place_id': 'ChIJu8ShoNhzVo8RZkJ7XSvnQDc',\n",
       "   'plus_code': {'compound_code': 'X98F+PX Mérida, Yucatan, Mexico',\n",
       "    'global_code': '76GGX98F+PX'},\n",
       "   'price_level': 1,\n",
       "   'rating': 4.5,\n",
       "   'reference': 'ChIJu8ShoNhzVo8RZkJ7XSvnQDc',\n",
       "   'scope': 'GOOGLE',\n",
       "   'types': ['restaurant', 'food', 'point_of_interest', 'establishment'],\n",
       "   'user_ratings_total': 1478,\n",
       "   'vicinity': '503 x 62 y 64 63#, Centro, Mérida'},\n",
       "  {'geometry': {'location': {'lat': 20.97039179999999,\n",
       "     'lng': -89.62356450000001},\n",
       "    'viewport': {'northeast': {'lat': 20.9717519302915,\n",
       "      'lng': -89.62227586970849},\n",
       "     'southwest': {'lat': 20.96905396970849, 'lng': -89.6249738302915}}},\n",
       "   'icon': 'https://maps.gstatic.com/mapfiles/place_api/icons/restaurant-71.png',\n",
       "   'id': '46e5f0e5138873089695899f9761d38e8d07c291',\n",
       "   'name': '2012 Espacios Mayas',\n",
       "   'opening_hours': {'open_now': True},\n",
       "   'photos': [{'height': 2736,\n",
       "     'html_attributions': ['<a href=\"https://maps.google.com/maps/contrib/108180203583155337073/photos\">2012 Espacios Mayas</a>'],\n",
       "     'photo_reference': 'CmRaAAAASuSl5ktPEuEJMHjmiXkZ_ncxPRYKTjWQKWYiMlkuiWl35lJ7fpx3jJ3NO8aT3Ng0sI5hHcJRf8wpL-ZpSyeX_Zs_t6xPfCUemkMMQrbQpIk1A-R7cHrrqOg99Donp9QREhC0JT_R5Y9GyqaaDthTz9IXGhSoPeAhF0LEKkbvjfKRORJG8EiFzw',\n",
       "     'width': 3648}],\n",
       "   'place_id': 'ChIJXerBsGFxVo8R_I2qJD7nh7I',\n",
       "   'plus_code': {'compound_code': 'X9CG+5H Mérida, Yucatan, Mexico',\n",
       "    'global_code': '76GGX9CG+5H'},\n",
       "   'rating': 4.4,\n",
       "   'reference': 'ChIJXerBsGFxVo8R_I2qJD7nh7I',\n",
       "   'scope': 'GOOGLE',\n",
       "   'types': ['art_gallery',\n",
       "    'bar',\n",
       "    'restaurant',\n",
       "    'food',\n",
       "    'point_of_interest',\n",
       "    'store',\n",
       "    'establishment'],\n",
       "   'user_ratings_total': 215,\n",
       "   'vicinity': 'Calle 62 468, Centro, Mérida'},\n",
       "  {'geometry': {'location': {'lat': 20.9693801, 'lng': -89.6139521},\n",
       "    'viewport': {'northeast': {'lat': 20.9707737802915,\n",
       "      'lng': -89.6125985697085},\n",
       "     'southwest': {'lat': 20.9680758197085, 'lng': -89.6152965302915}}},\n",
       "   'icon': 'https://maps.gstatic.com/mapfiles/place_api/icons/lodging-71.png',\n",
       "   'id': '3965355072d1e1f88dd9166921037de622f1fa48',\n",
       "   'name': 'Hotel Posada San Francisco',\n",
       "   'opening_hours': {'open_now': True},\n",
       "   'photos': [{'height': 3120,\n",
       "     'html_attributions': ['<a href=\"https://maps.google.com/maps/contrib/116744809642483734562/photos\">Oscar Ham</a>'],\n",
       "     'photo_reference': 'CmRaAAAA0UoV6jtM2GbkgkEi-wTrrytM8Mki9Uquhorl86naVSDd3J42vx1Mti9y6aIKOULlSWUF84vE-mTgTxl0QrDUnRxHE4mYLApNOMb0j0_TQ_qCsTfdEOUPwktnhIvNVpCzEhCMHtvNJPTJTff3ieYp7-dVGhTrTv8LK9P5a0UKIMLBwY08N16pzg',\n",
       "     'width': 4160}],\n",
       "   'place_id': 'ChIJM9XI3WhxVo8RCdY5_5BVem4',\n",
       "   'plus_code': {'compound_code': 'X99P+QC Mérida, Yucatan, Mexico',\n",
       "    'global_code': '76GGX99P+QC'},\n",
       "   'rating': 3.6,\n",
       "   'reference': 'ChIJM9XI3WhxVo8RCdY5_5BVem4',\n",
       "   'scope': 'GOOGLE',\n",
       "   'types': ['lodging',\n",
       "    'restaurant',\n",
       "    'food',\n",
       "    'point_of_interest',\n",
       "    'establishment'],\n",
       "   'user_ratings_total': 39,\n",
       "   'vicinity': 'Calle 55 442A, Centro'},\n",
       "  {'geometry': {'location': {'lat': 20.960518, 'lng': -89.621586},\n",
       "    'viewport': {'northeast': {'lat': 20.9618774802915,\n",
       "      'lng': -89.62029306970848},\n",
       "     'southwest': {'lat': 20.9591795197085, 'lng': -89.62299103029149}}},\n",
       "   'icon': 'https://maps.gstatic.com/mapfiles/place_api/icons/restaurant-71.png',\n",
       "   'id': 'ecc3b4130a77c69a79686c1423aff901b303b57c',\n",
       "   'name': 'Pollo Brujo',\n",
       "   'opening_hours': {'open_now': False},\n",
       "   'photos': [{'height': 1152,\n",
       "     'html_attributions': ['<a href=\"https://maps.google.com/maps/contrib/105376479957874715148/photos\">Felipe Vargas</a>'],\n",
       "     'photo_reference': 'CmRaAAAAssSugqAROsoH-398M59PxhFLGi-Gjv-wMgegYcgS5lDAK6DOMjNl_GgM-CHthNiLEDPw4bM_zVdTArktON06S0IMpiIuFrAse2Gp_UsYSUnJxgjMRJmnLxu1L5J5gbjvEhAuYlxz8GT0F2PyB6b69-b6GhQ-1sRuEvWaDyiIuN_IxUgKyHLufA',\n",
       "     'width': 2048}],\n",
       "   'place_id': 'ChIJZxtevn9xVo8R6lljJiM_9oU',\n",
       "   'plus_code': {'compound_code': 'X96H+69 Mérida, Yucatan, Mexico',\n",
       "    'global_code': '76GGX96H+69'},\n",
       "   'price_level': 2,\n",
       "   'rating': 4.2,\n",
       "   'reference': 'ChIJZxtevn9xVo8R6lljJiM_9oU',\n",
       "   'scope': 'GOOGLE',\n",
       "   'types': ['restaurant', 'food', 'point_of_interest', 'establishment'],\n",
       "   'user_ratings_total': 211,\n",
       "   'vicinity': 'Calle 56 # 552 x 71 y 73, Centro, Mérida'},\n",
       "  {'geometry': {'location': {'lat': 20.9666997, 'lng': -89.6246932},\n",
       "    'viewport': {'northeast': {'lat': 20.9680253802915,\n",
       "      'lng': -89.62334841970849},\n",
       "     'southwest': {'lat': 20.9653274197085, 'lng': -89.6260463802915}}},\n",
       "   'icon': 'https://maps.gstatic.com/mapfiles/place_api/icons/restaurant-71.png',\n",
       "   'id': 'cd91e451b0cb67f9ffb9c3ada3853ee721122066',\n",
       "   'name': 'Hojaldrissimo',\n",
       "   'opening_hours': {'open_now': False},\n",
       "   'photos': [{'height': 4160,\n",
       "     'html_attributions': ['<a href=\"https://maps.google.com/maps/contrib/103008907123440639927/photos\">Selina Martínez</a>'],\n",
       "     'photo_reference': 'CmRaAAAAaveEQYBSRd174_2Ii2Z3u99rwrZP3dkFKK-tAf1MjGFF5Fy0tjD-sA5FED1hlCMeP-gRRkUZHJpjvCsog23dpmuqmifMqj6eixxh4dvZcN6YsfvN8vEsJFikSOFKUcJdEhC1EJuoQGuL6vPmCBeTxlU9GhSra2W2neJK5CTNY-Ug7pAluu4pLA',\n",
       "     'width': 2340}],\n",
       "   'place_id': 'ChIJ3RElDWJxVo8Rva1HIYB6alM',\n",
       "   'plus_code': {'compound_code': 'X98G+M4 Mérida, Yucatan, Mexico',\n",
       "    'global_code': '76GGX98G+M4'},\n",
       "   'rating': 5,\n",
       "   'reference': 'ChIJ3RElDWJxVo8Rva1HIYB6alM',\n",
       "   'scope': 'GOOGLE',\n",
       "   'types': ['restaurant', 'food', 'point_of_interest', 'establishment'],\n",
       "   'user_ratings_total': 5,\n",
       "   'vicinity': 'por 62 y 64, Calle 63 501, Centro, Mérida'},\n",
       "  {'geometry': {'location': {'lat': 20.9666916, 'lng': -89.62448739999999},\n",
       "    'viewport': {'northeast': {'lat': 20.9680306302915,\n",
       "      'lng': -89.62310336970849},\n",
       "     'southwest': {'lat': 20.9653326697085, 'lng': -89.62580133029151}}},\n",
       "   'icon': 'https://maps.gstatic.com/mapfiles/place_api/icons/shopping-71.png',\n",
       "   'id': 'e0689abff6dbce1c63df341d24a18b9f22f483e3',\n",
       "   'name': 'Dairy Queen® Centro',\n",
       "   'opening_hours': {'open_now': True},\n",
       "   'photos': [{'height': 1800,\n",
       "     'html_attributions': ['<a href=\"https://maps.google.com/maps/contrib/108592472380286332520/photos\">Alejandro Lizarraga</a>'],\n",
       "     'photo_reference': 'CmRaAAAAnG59FDDqCQ2X3Mf5dX9-Y5oSIoAMT7VaxtRwgzEASs7yeKB8-SnUEVvmYNXi2bwBxfm91HBMkmgsSa0kMAobCPGM4WANhHkogLILbu3y6tddA6UU_HHAtp2AgvBQ_exHEhBJubCqtyxTqlLZ_kNZg0olGhQzllN6BUEYtytAVRPXYL6CfRw5Hw',\n",
       "     'width': 1800}],\n",
       "   'place_id': 'ChIJoauhDWJxVo8Row1I_OW1qkA',\n",
       "   'plus_code': {'compound_code': 'X98G+M6 Mérida, Yucatan, Mexico',\n",
       "    'global_code': '76GGX98G+M6'},\n",
       "   'price_level': 2,\n",
       "   'rating': 4.4,\n",
       "   'reference': 'ChIJoauhDWJxVo8Row1I_OW1qkA',\n",
       "   'scope': 'GOOGLE',\n",
       "   'types': ['restaurant',\n",
       "    'food',\n",
       "    'point_of_interest',\n",
       "    'store',\n",
       "    'establishment'],\n",
       "   'user_ratings_total': 109,\n",
       "   'vicinity': 'Calle 62 Esquina calle 61 Centro Histórico, Centro, Mérida'},\n",
       "  {'geometry': {'location': {'lat': 20.967833, 'lng': -89.6244193},\n",
       "    'viewport': {'northeast': {'lat': 20.9691659802915,\n",
       "      'lng': -89.62295801970849},\n",
       "     'southwest': {'lat': 20.96646801970849, 'lng': -89.6256559802915}}},\n",
       "   'icon': 'https://maps.gstatic.com/mapfiles/place_api/icons/restaurant-71.png',\n",
       "   'id': 'dcfbb906650ee7c46177044407adcf794055dd21',\n",
       "   'name': 'Burger King',\n",
       "   'opening_hours': {'open_now': True},\n",
       "   'photos': [{'height': 3096,\n",
       "     'html_attributions': ['<a href=\"https://maps.google.com/maps/contrib/113381031192970767505/photos\">Saul Gil</a>'],\n",
       "     'photo_reference': 'CmRaAAAAcsLertg2hq2HeYSe9rqBPOyFGZXE4UG2LsB1kl_K3D_lj77yiNbDRmypuFtXtIIdskx5otPI2shH6xJjZ6a8YbvV6dwIGke49pmEkLm2HNGjNLVgZKGJW8ShpDgfC2zrEhChidD2q8LHtD8p_igdBEqnGhRq0cE7IOVb33Fyg3mJL3hUQGj0xA',\n",
       "     'width': 4128}],\n",
       "   'place_id': 'ChIJIXAjF2JxVo8RaEDydtBPCjc',\n",
       "   'plus_code': {'compound_code': 'X99G+46 Mérida, Yucatan, Mexico',\n",
       "    'global_code': '76GGX99G+46'},\n",
       "   'price_level': 2,\n",
       "   'rating': 4.3,\n",
       "   'reference': 'ChIJIXAjF2JxVo8RaEDydtBPCjc',\n",
       "   'scope': 'GOOGLE',\n",
       "   'types': ['restaurant', 'food', 'point_of_interest', 'establishment'],\n",
       "   'user_ratings_total': 1119,\n",
       "   'vicinity': 'Calle 62 499, Centro, Mérida'},\n",
       "  {'geometry': {'location': {'lat': 20.9669649, 'lng': -89.6258106},\n",
       "    'viewport': {'northeast': {'lat': 20.9682427302915,\n",
       "      'lng': -89.6244743697085},\n",
       "     'southwest': {'lat': 20.96554476970849, 'lng': -89.6271723302915}}},\n",
       "   'icon': 'https://maps.gstatic.com/mapfiles/place_api/icons/restaurant-71.png',\n",
       "   'id': '2bdc46c783ed02862786e0b9d64da04ded925ddc',\n",
       "   'name': 'LAS QUEKAS',\n",
       "   'opening_hours': {'open_now': True},\n",
       "   'photos': [{'height': 3096,\n",
       "     'html_attributions': ['<a href=\"https://maps.google.com/maps/contrib/106076892972895033543/photos\">Dita Lara</a>'],\n",
       "     'photo_reference': 'CmRaAAAAhY2DK7R3YS5u5j9zvTEpEWOPvskrxU8pCxVLEhQXMwPsKDTWiYcYm_wJoY-Pza5TbQMZ-WX1_WuW_aFGrM3D0WobT8qIplLhKf3IQ3P1SfFOdYNvcWBVavDz9nDvyRt7EhBoi_BtJgU5obPRyz3wCDboGhTV8IwAXwX3i21gWBguH2OaPYGyCQ',\n",
       "     'width': 4128}],\n",
       "   'place_id': 'ChIJQcFJDWJxVo8RVQUvRES6CBo',\n",
       "   'plus_code': {'compound_code': 'X98F+QM Mérida, Yucatan, Mexico',\n",
       "    'global_code': '76GGX98F+QM'},\n",
       "   'rating': 3.6,\n",
       "   'reference': 'ChIJQcFJDWJxVo8RVQUvRES6CBo',\n",
       "   'scope': 'GOOGLE',\n",
       "   'types': ['restaurant', 'food', 'point_of_interest', 'establishment'],\n",
       "   'user_ratings_total': 29,\n",
       "   'vicinity': 'Calle 63 503, Centro, Mérida'},\n",
       "  {'geometry': {'location': {'lat': 20.9681292, 'lng': -89.624074},\n",
       "    'viewport': {'northeast': {'lat': 20.9694827302915,\n",
       "      'lng': -89.6227571697085},\n",
       "     'southwest': {'lat': 20.9667847697085, 'lng': -89.62545513029151}}},\n",
       "   'icon': 'https://maps.gstatic.com/mapfiles/place_api/icons/restaurant-71.png',\n",
       "   'id': '4f867d5bc86b1b797efae151b172bcc78a5db709',\n",
       "   'name': '100% Natural',\n",
       "   'opening_hours': {'open_now': True},\n",
       "   'photos': [{'height': 430,\n",
       "     'html_attributions': ['<a href=\"https://maps.google.com/maps/contrib/118208796338995474349/photos\">100% Natural</a>'],\n",
       "     'photo_reference': 'CmRaAAAAdNqnUbAel_lsOap_4NSnVVG_bOQwBxFgkw4FtGmBfTblWx4dDqr31b-1xSu1On0HINTeZD4Lt5Lno2L0Uo7Mmkn_j2ffIecMlU1CfNrZnvDubkhOsQIqy_gikjyNIJT2EhDHgjmOL7BNCbIXdRkBa9nIGhQftJLJoZLt0ngOn_J_oIIDQ5XUIw',\n",
       "     'width': 764}],\n",
       "   'place_id': 'ChIJN8w79WFxVo8R2N1lEbTtKUo',\n",
       "   'plus_code': {'compound_code': 'X99G+79 Mérida, Yucatan, Mexico',\n",
       "    'global_code': '76GGX99G+79'},\n",
       "   'price_level': 2,\n",
       "   'rating': 4.2,\n",
       "   'reference': 'ChIJN8w79WFxVo8R2N1lEbTtKUo',\n",
       "   'scope': 'GOOGLE',\n",
       "   'types': ['restaurant', 'food', 'point_of_interest', 'establishment'],\n",
       "   'user_ratings_total': 223,\n",
       "   'vicinity': 'Calle 62 498 por 59 Y 61, Centro, Mérida'},\n",
       "  {'geometry': {'location': {'lat': 20.9681573, 'lng': -89.6239324},\n",
       "    'viewport': {'northeast': {'lat': 20.9695204802915,\n",
       "      'lng': -89.62268306970849},\n",
       "     'southwest': {'lat': 20.9668225197085, 'lng': -89.6253810302915}}},\n",
       "   'icon': 'https://maps.gstatic.com/mapfiles/place_api/icons/restaurant-71.png',\n",
       "   'id': '8184cad2ace1c7083ec46a1c038eb9f514c80b22',\n",
       "   'name': 'Casa Maya',\n",
       "   'opening_hours': {'open_now': True},\n",
       "   'photos': [{'height': 4000,\n",
       "     'html_attributions': ['<a href=\"https://maps.google.com/maps/contrib/102076307927570194685/photos\">Mélanie Lefranc</a>'],\n",
       "     'photo_reference': 'CmRaAAAAQnfKkwbuaKAcdX4lkntkrDIGUl6raHRDfyyjVJUJgSgq5NgwHCCjEIpgnSWCtdQeyF-IgjjFUl5e1PoNwBa-LA4W-R9t6V-q3Z5pJMeDSlYI2koMRVFwJMOD-9BBll65EhD3zAzvKdnSTCaJAtnikYIqGhT6vtdCZ1yyYccItkgVI7ZaWpqLJQ',\n",
       "     'width': 3000}],\n",
       "   'place_id': 'ChIJt6PXimFxVo8RrG3J7TTr-y4',\n",
       "   'plus_code': {'compound_code': 'X99G+7C Mérida, Yucatan, Mexico',\n",
       "    'global_code': '76GGX99G+7C'},\n",
       "   'rating': 4.1,\n",
       "   'reference': 'ChIJt6PXimFxVo8RrG3J7TTr-y4',\n",
       "   'scope': 'GOOGLE',\n",
       "   'types': ['restaurant', 'food', 'point_of_interest', 'establishment'],\n",
       "   'user_ratings_total': 204,\n",
       "   'vicinity': 'Calle 62 496, Centro, Mérida'},\n",
       "  {'geometry': {'location': {'lat': 20.9660275, 'lng': -89.6246252},\n",
       "    'viewport': {'northeast': {'lat': 20.9673727802915,\n",
       "      'lng': -89.6232578197085},\n",
       "     'southwest': {'lat': 20.9646748197085, 'lng': -89.6259557802915}}},\n",
       "   'icon': 'https://maps.gstatic.com/mapfiles/place_api/icons/restaurant-71.png',\n",
       "   'id': '99da7182839dfa894a3623090bb3afa446bd3bc3',\n",
       "   'name': 'Don Spaghetto',\n",
       "   'opening_hours': {'open_now': True},\n",
       "   'photos': [{'height': 1920,\n",
       "     'html_attributions': ['<a href=\"https://maps.google.com/maps/contrib/109035606687660575396/photos\">Diego Casanova</a>'],\n",
       "     'photo_reference': 'CmRaAAAAaK8nOPij-eR05SHFWLuXgrK7fXll-oF9YTYPn1HE8xeM9jGVWF3Y7fUKIQnamYdsGsKfa40ihdUmDfmfEQyBfmlvMW4eky6Y8Hl7q9FcUqxqjAbkv3oszm0Bv-OM6NYBEhDweG5jmqBSaUgBrtdMnmiLGhTO4unE7Vss1YbFgnPdhoxKJqyMqA',\n",
       "     'width': 1080}],\n",
       "   'place_id': 'ChIJoyglcGJxVo8Rjca0khDKCeM',\n",
       "   'plus_code': {'compound_code': 'X98G+C4 Mérida, Yucatan, Mexico',\n",
       "    'global_code': '76GGX98G+C4'},\n",
       "   'price_level': 2,\n",
       "   'rating': 4.4,\n",
       "   'reference': 'ChIJoyglcGJxVo8Rjca0khDKCeM',\n",
       "   'scope': 'GOOGLE',\n",
       "   'types': ['meal_delivery',\n",
       "    'restaurant',\n",
       "    'food',\n",
       "    'point_of_interest',\n",
       "    'establishment'],\n",
       "   'user_ratings_total': 561,\n",
       "   'vicinity': 'Departamento a x 63 y 65, Calle 62 509, Centro, Mérida'}],\n",
       " 'status': 'OK'}"
      ]
     },
     "execution_count": 7,
     "metadata": {},
     "output_type": "execute_result"
    }
   ],
   "source": [
    "# Let's see what we have!\n",
    "nearby_places_home(20.9673271, -89.6249853, 2000, 'restaurant',key)"
   ]
  },
  {
   "cell_type": "markdown",
   "metadata": {},
   "source": [
    "A little **ugly** I must admit :P . Luckily we have python's pandas library. So we are going to convert that dictionary into a table.\n",
    "I won't teach you how to use pandas as this is not the purpose of the tutorial, but I will explain the few pandas functions we are using.\n",
    "\n",
    "\n",
    "**Important** Dictionaries use 'the key : value' format. Our key here is the \"Results\" key!"
   ]
  },
  {
   "cell_type": "code",
   "execution_count": 9,
   "metadata": {},
   "outputs": [],
   "source": [
    "# Convert it into a table\n",
    "# It is easier to use our function if we declare it as a variable\n",
    "restaurants_in_home = nearby_places_home(20.9673271, -89.6249853, 2000,'restaurant', key)"
   ]
  },
  {
   "cell_type": "markdown",
   "metadata": {},
   "source": [
    "Here we are telling pandas to read a json dictionary and selecting \"results\", which is the key we are taking the information from. The **orient = 'records'** is the general form to read dictionaries which are organized. GMaps' API returns organized data most of the date, so you don't have to worry abput that.\n",
    "\n",
    "json.dumps function transforms the dictionary into a json.\n",
    "\n",
    "And 'pd.read_json' reads the json and converts it into a table. :o"
   ]
  },
  {
   "cell_type": "code",
   "execution_count": 11,
   "metadata": {},
   "outputs": [
    {
     "data": {
      "text/html": [
       "<div>\n",
       "<style scoped>\n",
       "    .dataframe tbody tr th:only-of-type {\n",
       "        vertical-align: middle;\n",
       "    }\n",
       "\n",
       "    .dataframe tbody tr th {\n",
       "        vertical-align: top;\n",
       "    }\n",
       "\n",
       "    .dataframe thead th {\n",
       "        text-align: right;\n",
       "    }\n",
       "</style>\n",
       "<table border=\"1\" class=\"dataframe\">\n",
       "  <thead>\n",
       "    <tr style=\"text-align: right;\">\n",
       "      <th></th>\n",
       "      <th>name</th>\n",
       "      <th>place_id</th>\n",
       "      <th>price_level</th>\n",
       "      <th>rating</th>\n",
       "      <th>types</th>\n",
       "      <th>user_ratings_total</th>\n",
       "    </tr>\n",
       "  </thead>\n",
       "  <tbody>\n",
       "    <tr>\n",
       "      <th>0</th>\n",
       "      <td>Hotel MedioMundo</td>\n",
       "      <td>ChIJ6UkVhN9zVo8R1l9m8TxbQPM</td>\n",
       "      <td>NaN</td>\n",
       "      <td>4.6</td>\n",
       "      <td>[lodging, restaurant, food, point_of_interest,...</td>\n",
       "      <td>81</td>\n",
       "    </tr>\n",
       "    <tr>\n",
       "      <th>1</th>\n",
       "      <td>Hotel Colonial de Mérida</td>\n",
       "      <td>ChIJvbQpe9cBzoURQu204GwtXw8</td>\n",
       "      <td>NaN</td>\n",
       "      <td>4.2</td>\n",
       "      <td>[lodging, restaurant, food, point_of_interest,...</td>\n",
       "      <td>587</td>\n",
       "    </tr>\n",
       "    <tr>\n",
       "      <th>2</th>\n",
       "      <td>Rosas &amp; Xocolate Boutique Hotel + SPA</td>\n",
       "      <td>ChIJ68JYb1xxVo8RczcCV0_dsvs</td>\n",
       "      <td>3.0</td>\n",
       "      <td>4.4</td>\n",
       "      <td>[restaurant, spa, lodging, food, gym, health, ...</td>\n",
       "      <td>518</td>\n",
       "    </tr>\n",
       "    <tr>\n",
       "      <th>3</th>\n",
       "      <td>Subway</td>\n",
       "      <td>ChIJZ7rUWxpxVo8RmiC9ZdNmhmA</td>\n",
       "      <td>2.0</td>\n",
       "      <td>4.3</td>\n",
       "      <td>[restaurant, food, point_of_interest, establis...</td>\n",
       "      <td>580</td>\n",
       "    </tr>\n",
       "    <tr>\n",
       "      <th>4</th>\n",
       "      <td>Hotel Montejo Palace</td>\n",
       "      <td>ChIJVT30Dp92Vo8R9yX_u-8nWBk</td>\n",
       "      <td>NaN</td>\n",
       "      <td>3.8</td>\n",
       "      <td>[lodging, restaurant, food, point_of_interest,...</td>\n",
       "      <td>40</td>\n",
       "    </tr>\n",
       "  </tbody>\n",
       "</table>\n",
       "</div>"
      ],
      "text/plain": [
       "                                    name                     place_id  \\\n",
       "0                       Hotel MedioMundo  ChIJ6UkVhN9zVo8R1l9m8TxbQPM   \n",
       "1               Hotel Colonial de Mérida  ChIJvbQpe9cBzoURQu204GwtXw8   \n",
       "2  Rosas & Xocolate Boutique Hotel + SPA  ChIJ68JYb1xxVo8RczcCV0_dsvs   \n",
       "3                                 Subway  ChIJZ7rUWxpxVo8RmiC9ZdNmhmA   \n",
       "4                   Hotel Montejo Palace  ChIJVT30Dp92Vo8R9yX_u-8nWBk   \n",
       "\n",
       "   price_level  rating                                              types  \\\n",
       "0          NaN     4.6  [lodging, restaurant, food, point_of_interest,...   \n",
       "1          NaN     4.2  [lodging, restaurant, food, point_of_interest,...   \n",
       "2          3.0     4.4  [restaurant, spa, lodging, food, gym, health, ...   \n",
       "3          2.0     4.3  [restaurant, food, point_of_interest, establis...   \n",
       "4          NaN     3.8  [lodging, restaurant, food, point_of_interest,...   \n",
       "\n",
       "   user_ratings_total  \n",
       "0                  81  \n",
       "1                 587  \n",
       "2                 518  \n",
       "3                 580  \n",
       "4                  40  "
      ]
     },
     "execution_count": 11,
     "metadata": {},
     "output_type": "execute_result"
    }
   ],
   "source": [
    "table_restaurants = pd.read_json(json.dumps(restaurants_in_home['results']), orient = 'records')\n",
    "\n",
    "# Mmmm, let's delete some useless columns in our table\n",
    "table_restaurants = table_restaurants.drop(['geometry','icon','id','opening_hours','photos','plus_code','reference','scope','vicinity'], axis = 1)\n",
    "\n",
    "# Let's see what we have!\n",
    "table_restaurants.head()"
   ]
  },
  {
   "cell_type": "markdown",
   "metadata": {},
   "source": [
    "You want to see the whole table? Delete \"head()\" from the final line of code and test it here!"
   ]
  },
  {
   "cell_type": "code",
   "execution_count": 12,
   "metadata": {},
   "outputs": [],
   "source": [
    "# Your turn!"
   ]
  },
  {
   "cell_type": "markdown",
   "metadata": {},
   "source": [
    "Nice! so those are all the restaurants in a 2000 meter radius from your house. Easy, huh? ;)"
   ]
  },
  {
   "cell_type": "markdown",
   "metadata": {},
   "source": [
    "**Finding a place ID**."
   ]
  },
  {
   "cell_type": "markdown",
   "metadata": {},
   "source": [
    "A lot of requests from GMaps require the place ID to work correctly. Unfortunately, it's not as easy as write the name of the place.\n",
    "But with our programmer superpowers we can create a function to do so for us, can't we?\n",
    "\n",
    "I'll get the place ID for the cathedral of Mérida, Yucatán"
   ]
  },
  {
   "cell_type": "markdown",
   "metadata": {},
   "source": [
    "We are going to be using the same documentation (Find Place Request part)"
   ]
  },
  {
   "cell_type": "code",
   "execution_count": 13,
   "metadata": {},
   "outputs": [],
   "source": [
    "# Let's try it!\n",
    "# Finding place ID for Mérida's cathedral\n",
    "\n",
    "def find_place(name, lat, lon, key):\n",
    "     \"\"\"\n",
    "    Function that takes a text input, and returns a place.\n",
    "    ----------------------\n",
    "    Input:\n",
    "        <string>\n",
    "        \n",
    "        'place_name' : The text input can be any kind of Places data, for example, a name, address, or phone number.\n",
    "        'key' : your API key\n",
    "        'lat' : latitude\n",
    "        'lon' : longitude\n",
    "    -------------------------\n",
    "    Output:\n",
    "        <json dictionary> containing information about a place\n",
    "    \"\"\"\n",
    "    \n",
    "    url = f'https://maps.googleapis.com/maps/api/place/findplacefromtext/json?input={name}&inputtype=textquery&locationbias=point:{lat},{lon}&key={key}'\n",
    "    \n",
    "    request = requests.get(url)\n",
    "    \n",
    "    results = json.loads(request.content)\n",
    "    \n",
    "    return results"
   ]
  },
  {
   "cell_type": "markdown",
   "metadata": {},
   "source": [
    "Our function is done! Try it putting the parameters on your own! You will need:\n",
    "\n",
    "* The name of the place (Use the name exactly how it is written in Google Maps)\n",
    "* The latitude\n",
    "* The longitude\n",
    "* Your API key (remember, just write \"key\", because you already have it declared)\n",
    "\n",
    "**You can find lat/lon in the link of the place where you are on GMaps. Look at the url and after the first \"@\" you will se a pair of numbers divided by a comma, those are your latitude and longitude.**\n",
    "\n",
    "\n",
    "Bellow you'll see my example:"
   ]
  },
  {
   "cell_type": "code",
   "execution_count": 14,
   "metadata": {},
   "outputs": [
    {
     "data": {
      "text/plain": [
       "{'candidates': [{'place_id': 'ChIJzWNGXH1xVo8RHtveR0iaomo'}], 'status': 'OK'}"
      ]
     },
     "execution_count": 14,
     "metadata": {},
     "output_type": "execute_result"
    }
   ],
   "source": [
    "# Remember! It is easier to manage a string if you store it into a variable ;)\n",
    "name = 'Catedral, Centro, Mérida, Yucatán'\n",
    "find_place(name, 20.9673271, -89.6249853, key)"
   ]
  },
  {
   "cell_type": "code",
   "execution_count": 16,
   "metadata": {},
   "outputs": [],
   "source": [
    "# What's yours? Try it out!\n"
   ]
  },
  {
   "cell_type": "markdown",
   "metadata": {},
   "source": [
    "As you can see, our new function is similar to the previous one. This is because all of the functions tend to follow the same structure!:\n",
    "    \n",
    "   * Declare an url\n",
    "   * Make a request\n",
    "   * Create a json with the content of the request\n",
    "   * Return what we have\n",
    "\n",
    "It's not that hard :P"
   ]
  },
  {
   "cell_type": "markdown",
   "metadata": {},
   "source": [
    "**Finding the details of a place and its reviews.**"
   ]
  },
  {
   "cell_type": "markdown",
   "metadata": {},
   "source": [
    "So far things have been easy. Now... it will be easy as well!!!\n",
    "\n",
    "In this case you will have to write a function on your own. Don't get scared, I promiss you only need to follow the same structure as the functions above. :B"
   ]
  },
  {
   "cell_type": "markdown",
   "metadata": {},
   "source": [
    "You will work with this url = 'https://maps.googleapis.com/maps/api/place/details/json?place_id={place_id}&language=en,es&key={key}' \n",
    "\n",
    "The url only receives two parameters (Those who are between the '{ }' spaces).\n",
    "\n",
    "You can change the parameters name, just be sure that both the ones in the link and the ones in the parameters are exactly the same!\n",
    "\n",
    "For more information check the [*Place Details*](https://developers.google.com/places/web-service/details#PlaceDetailsResults)."
   ]
  },
  {
   "cell_type": "code",
   "execution_count": 20,
   "metadata": {},
   "outputs": [],
   "source": [
    "# Your function here:\n",
    "\n",
    "\n"
   ]
  },
  {
   "cell_type": "code",
   "execution_count": 19,
   "metadata": {},
   "outputs": [],
   "source": [
    "# Test your function with your parameters here!\n",
    "# You can assign the place id you found on your function \"find_place\" to a variable, just like this:\n",
    "# place_id = 'ChIJzWNGXH1xVo8RHtveR0iaomo'\n",
    "place_id = ''\n",
    "\n",
    "# Function here:\n"
   ]
  },
  {
   "cell_type": "markdown",
   "metadata": {},
   "source": [
    "Your function must return a json dictionary. If doesn't, try to read our functions above. As I mentioned before, it follows the same steps."
   ]
  },
  {
   "cell_type": "markdown",
   "metadata": {},
   "source": [
    "When you're ready and your function returns a dictionary, go to the next step:"
   ]
  },
  {
   "cell_type": "markdown",
   "metadata": {},
   "source": [
    "Let's convert that unorganized data into a beautiful, gorgeous, pretty, perfect and sexy pandas DataFrame (a table):"
   ]
  },
  {
   "cell_type": "code",
   "execution_count": 21,
   "metadata": {},
   "outputs": [],
   "source": [
    "# Assign your function with parameters to a variable:\n",
    "reviews_place = #your function goes here"
   ]
  },
  {
   "cell_type": "code",
   "execution_count": null,
   "metadata": {},
   "outputs": [],
   "source": [
    "# Converting json dictionary into a DataFrame\n",
    "reviews_table = pd.read_json(json.dumps(reviews_place['result']['reviews']), orient = 'records')\n",
    "reviews_table"
   ]
  },
  {
   "cell_type": "markdown",
   "metadata": {},
   "source": [
    "Huh, seems like we have a lot of useless information. Why don't we erase it all? :)\n",
    "For this task you will have to \"redefine the table\". But I'm gonna show an example, because I'm do not like my students to suffer:\n",
    "\n",
    "Let's suppose you have a table called 'My_grades' with the columns '1st quarter', '2nd quarter' and '3rd quarter', but you don't want your parents to know your quarter 2 and 3 grades, so you'll only show them your first quarter's grades (which I hope it's not the case D: ). Well, in order to do that, you should do something like this:\n",
    "\n",
    "My_grades = My_grades.drop(columns = ['2nd quarter', '3rd quarter'], axis = 1)\n",
    "\n",
    "Did you see? Just need to specify which columns you want to delete!\n",
    "\n",
    "**DO NOT move the \"axis = 1\" part, you need it to have a pretty well-organized table** ;)"
   ]
  },
  {
   "cell_type": "code",
   "execution_count": null,
   "metadata": {},
   "outputs": [],
   "source": [
    "# Delete all the columns except for author_name, language, rating, text and time:\n",
    "reviews_table = #Your code here!\n",
    "\n",
    "# See what you've done! (Don't move the code down below)\n",
    "reviews_table"
   ]
  },
  {
   "cell_type": "markdown",
   "metadata": {},
   "source": [
    "Muuuuch better!"
   ]
  },
  {
   "cell_type": "markdown",
   "metadata": {},
   "source": [
    "**Find similar places**"
   ]
  },
  {
   "cell_type": "markdown",
   "metadata": {},
   "source": [
    "Up next we'll be finding similar places to any given place we like, we'll also be ranking results by prominence\n",
    "\n",
    "First of all we need our new URL, which would be something like this: 'https://maps.googleapis.com/maps/api/place/nearbysearch/json?location={lat},{lon}&radius={radius}&type={tipo}&rank_by={rank}&key={key}'\n",
    "\n",
    "This URL recieves 6 parameters, which would be the following, in order\n",
    "\n",
    "latitude and longitude, this is used to tell the API where our starting place is\n",
    "\n",
    "radius, this is used to tell the API how far from our starting place do we wanna look\n",
    "\n",
    "type, this is used to tell the API what type of place we're looking for, for example a restaurant or a shopping mall\n",
    "\n",
    "rank, this is used to tell the API how it should rank the results, in other words what is more important to us\n",
    "\n",
    "and finally our key so the API knows who we are"
   ]
  },
  {
   "cell_type": "markdown",
   "metadata": {},
   "source": [
    "*A couple of tips for getting the url right*:\n",
    "\n",
    "1.-store the location of your starting place in a variable like this:\n",
    "\n",
    "location_taquitos = [20.99881,-89.6196241]\n",
    "\n",
    "this will make it much easier to work with it,\n",
    "\n",
    "2.-if you have any questions dont hesitate to check [*the documentation*](https://developers.google.com/places/web-service/search#PlaceSearchRequests)! \n",
    "Now all you need to do is create a function very similar to the other ones you just did, easy right?"
   ]
  },
  {
   "cell_type": "code",
   "execution_count": null,
   "metadata": {},
   "outputs": [],
   "source": [
    "#Your function goes here"
   ]
  },
  {
   "cell_type": "markdown",
   "metadata": {},
   "source": [
    "Now comes the fun part! for this function you get to turn the json into a Data Frame and clean it afterwards! Dont let all the parentheses and syntax scare you, once you get the hang of it its really easy and you can always reference the code above\n",
    "\n",
    "tips: \n",
    "\n",
    "you can reuse the previous code to convert a json into a dataframe\n",
    "\n",
    "the target columns are: 'name', 'place_id', 'rating', 'types', 'user_ratings_total'"
   ]
  },
  {
   "cell_type": "code",
   "execution_count": null,
   "metadata": {},
   "outputs": [],
   "source": [
    "#Your code goes here"
   ]
  },
  {
   "cell_type": "markdown",
   "metadata": {},
   "source": [
    "# **Using the GoogleMaps library**\n",
    " \n",
    "You may be sitting there thinking this was way easier than expected, well I have news for you, our friends at google have made it somehow even easier\n",
    "\n",
    "First of all we have to import the library and load our key this, that would look something like this:"
   ]
  },
  {
   "cell_type": "code",
   "execution_count": null,
   "metadata": {},
   "outputs": [],
   "source": [
    "import googlemaps\n",
    "cliente= googlemaps.Client(key = 'key goes here') #please replace the text with your key"
   ]
  },
  {
   "cell_type": "markdown",
   "metadata": {},
   "source": [
    "**Finding reviews of a place using GoogleMaps**"
   ]
  },
  {
   "cell_type": "markdown",
   "metadata": {},
   "source": [
    "Now we'll use this magic library to get places nearby using the places_nearby function fo the library, the format goes something like this"
   ]
  },
  {
   "cell_type": "code",
   "execution_count": null,
   "metadata": {},
   "outputs": [],
   "source": [
    "places = cliente.places_nearby(location='20.988459,-89.736768',radius=2000, type='restaurant')"
   ]
  },
  {
   "cell_type": "markdown",
   "metadata": {},
   "source": [
    "To no ones surprise this function returns an ugly dictionary so well convert it to a data frame below and we'll get the desired columns only"
   ]
  },
  {
   "cell_type": "code",
   "execution_count": null,
   "metadata": {},
   "outputs": [],
   "source": [
    "places = pd.read_json(json.dumps(places['results']), orient='record') # Accessing to the dictionary\n",
    "places=places[['name', 'place_id', 'rating', 'types', 'user_ratings_total']] # Selecting target columns"
   ]
  },
  {
   "cell_type": "markdown",
   "metadata": {},
   "source": [
    "if your key is correct below you'll be able to see a beautiful table with the places nearby the UPY! :)"
   ]
  },
  {
   "cell_type": "code",
   "execution_count": null,
   "metadata": {},
   "outputs": [],
   "source": [
    "places"
   ]
  },
  {
   "cell_type": "markdown",
   "metadata": {},
   "source": [
    "Now your turn to get dirty! up next well use the library to find reviews of an irish pub\n",
    " \n",
    "First off we'll use find_place to find the places ID"
   ]
  },
  {
   "cell_type": "code",
   "execution_count": null,
   "metadata": {},
   "outputs": [],
   "source": [
    "mcarthys = gmaps.find_place(fields=['name','place_id'],input=\"McCarthy's Irish Pub - Caucel\", location_bias='circle:100@20.998842,-89.617407', input_type='textquery')\n",
    "mcarthys"
   ]
  },
  {
   "cell_type": "markdown",
   "metadata": {},
   "source": [
    "Now we'll use this ID to get details of this place"
   ]
  },
  {
   "cell_type": "code",
   "execution_count": null,
   "metadata": {},
   "outputs": [],
   "source": [
    "reviews = gmaps.place(place_id='place id', language='en,es')#please replace the text with the ID obtained above "
   ]
  },
  {
   "cell_type": "markdown",
   "metadata": {},
   "source": [
    "This will return A LOT of data we dont want so its time to clean it up a bit while at the same time getting our data frame, fancy right?"
   ]
  },
  {
   "cell_type": "code",
   "execution_count": null,
   "metadata": {},
   "outputs": [],
   "source": [
    "reviews=pd.read_json(json.dumps(reviews['result']['reviews']), orient='records')"
   ]
  },
  {
   "cell_type": "markdown",
   "metadata": {},
   "source": [
    "now that we have our Data Frame with the reviews we just gotta select the columns we need and were done!"
   ]
  },
  {
   "cell_type": "code",
   "execution_count": null,
   "metadata": {},
   "outputs": [],
   "source": [
    "reviews=reviews[['author_name','language','rating','text', 'time']]#these are the target columns\n",
    "reviews"
   ]
  },
  {
   "cell_type": "markdown",
   "metadata": {},
   "source": [
    "Now its your turn to do this with a different place of your choosing, feel free to add as many cells as you need in this part"
   ]
  },
  {
   "cell_type": "code",
   "execution_count": null,
   "metadata": {},
   "outputs": [],
   "source": [
    "#your code goes here"
   ]
  },
  {
   "cell_type": "markdown",
   "metadata": {},
   "source": [
    "**Finding similar places using GoogleMaps**"
   ]
  },
  {
   "cell_type": "markdown",
   "metadata": {},
   "source": [
    "Next up we'll use googlemaps to find similar places, but as you already have some expirience with the library and doing this taks manually you'll get a little bit less help, you can do it!\n",
    " \n",
    "hint: the target columns are: 'name', 'place_id', 'rating', 'types', 'user_ratings_total'"
   ]
  },
  {
   "cell_type": "code",
   "execution_count": null,
   "metadata": {},
   "outputs": [],
   "source": [
    "similar = gmaps.places_nearby(location=?,radius?, type?, rank_by?)#replace the question marks with the right parameters\n",
    "#get the target columns and print the data frame"
   ]
  },
  {
   "cell_type": "markdown",
   "metadata": {},
   "source": [
    "# Congratulations!\n",
    "You now know how to use the GoogleMaps API! I bet you can impress a lot of employers with that one ;)"
   ]
  },
  {
   "cell_type": "code",
   "execution_count": null,
   "metadata": {},
   "outputs": [],
   "source": []
  }
 ],
 "metadata": {
  "kernelspec": {
   "display_name": "Python 3",
   "language": "python",
   "name": "python3"
  },
  "language_info": {
   "codemirror_mode": {
    "name": "ipython",
    "version": 3
   },
   "file_extension": ".py",
   "mimetype": "text/x-python",
   "name": "python",
   "nbconvert_exporter": "python",
   "pygments_lexer": "ipython3",
   "version": "3.7.1"
  }
 },
 "nbformat": 4,
 "nbformat_minor": 2
}
